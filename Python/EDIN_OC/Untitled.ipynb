{
 "cells": [
  {
   "cell_type": "code",
   "execution_count": 1,
   "id": "23bffbe7-ca0f-4540-9eab-9dc1c021b299",
   "metadata": {},
   "outputs": [],
   "source": [
    "#ROE"
   ]
  },
  {
   "cell_type": "code",
   "execution_count": 2,
   "id": "50d51b37-ffb8-48e4-8bb1-07b325468480",
   "metadata": {},
   "outputs": [],
   "source": [
    "from yahoofinancials import YahooFinancials\n",
    "import numpy as np"
   ]
  },
  {
   "cell_type": "code",
   "execution_count": 3,
   "id": "4306249a-387b-4caa-8bd0-08304315e404",
   "metadata": {},
   "outputs": [],
   "source": [
    "a = ['AAPL', 'MSFT', 'AMZN', 'GOOGL', 'GOOG', 'TSLA', 'NVDA', 'FB', 'JPM', 'UNH', 'JNJ', 'PG', 'HD', 'BAC', 'MA', 'DIS', 'PFE', 'ABBV', 'KO', 'AVGO', 'CSCO', 'PEP', 'COST', 'WFC', 'VZ', 'ADBE', 'CMCSA', 'ABT', 'TMO', 'ACN', 'CRM', 'INTC', 'LLY', 'MCD', 'QCOM', 'AMD', 'NKE', 'PM', 'NFLX', 'DHR', 'UNP', 'LOW', 'LIN', 'TXN', 'RTX', 'INTU', 'MS', 'MDT', 'SCHW', 'C', 'HON', 'AMGN', 'PYPL', 'AMAT', 'AXP', 'GS', 'NOW', 'IBM', 'ANTM', 'SBUX', 'BLK', 'DE', 'BKNG', 'PLD', 'CAT', 'MU', 'AMT', 'ISRG', 'TGT', 'LMT', 'MO', 'MDLZ', 'SPGI', 'ZTS', 'CB', 'ADI', 'MMM', 'CME', 'PNC', 'ADP', 'SYK', 'TFC', 'LRCX', 'TJX', 'CSX', 'USB', 'GILD', 'MMC', 'BDX', 'CI', 'CHTR', 'TMUS', 'GM', 'CCI', 'EL', 'ICE', 'CL', 'EW', 'NSC', 'REGN', 'COF', 'SHW', 'D', 'FCX', 'ATVI', 'ITW', 'EQIX', 'AON', 'PGR', 'BSX', 'ETN', 'HCA', 'NOC', 'FIS', 'VRTX', 'SLB', 'FISV', 'KLAC', 'EMR', 'WM', 'FDX', 'NEM', 'APD', 'PSA', 'MCO', 'AIG', 'MET', 'ILMN', 'GD', 'ADSK', 'MAR', 'CNC', 'TEL', 'SPG', 'JCI', 'DG', 'ROP', 'ORLY', 'CTSH', 'APH', 'SNPS', 'ECL', 'KMB', 'MSCI', 'BK', 'LHX', 'IQV', 'PRU', 'SYY', 'INFO', 'ADM', 'AEP', 'CMG', 'TRV', 'MCK', 'FTNT', 'HPQ', 'IDXX', 'BAX', 'GIS', 'EXC', 'GPN', 'AZO', 'MCHP', 'A', 'PH', 'AFL', 'APTV', 'CARR', 'CDNS', 'O', 'DXCM', 'PAYX', 'EA', 'ALGN', 'MSI', 'YUM', 'DFS', 'SIVB', 'WMB', 'STZ', 'TT', 'WELL', 'XEL', 'PPG', 'EBAY', 'ALL', 'NUE', 'IFF', 'TDG', 'STT', 'RMD', 'CBRE', 'FITB', 'AVB', 'ROST', 'MTD', 'KMI', 'TROW', 'OTIS', 'PCAR', 'SBAC', 'CTAS', 'GLW', 'MTCH', 'AJG', 'CMI', 'BIIB', 'FRC', 'ROK', 'KR', 'VRSK', 'MNST', 'DLTR', 'KEYS', 'BLL', 'AME', 'FAST', 'HSY', 'WY', 'ANET', 'EQR', 'ED', 'WST', 'ES', 'WEC', 'OKE', 'WTW', 'TSN', 'ODFL', 'CERN', 'ANSS', 'DHI', 'AWK', 'KHC', 'CPRT', 'SWK', 'ARE', 'LYB', 'EFX', 'LH', 'EXR', 'EPAM', 'CDW', 'ZBH', 'VMC', 'NTRS', 'LEN', 'RSG', 'MKC', 'TSCO', 'HIG', 'KEY', 'MLM', 'SYF', 'IT', 'CHD', 'MAA', 'MTB', 'HBAN', 'DTE', 'DOV', 'RF', 'URI', 'FTV', 'ZBRA', 'CFG', 'SWKS', 'HPE', 'PKI', 'FE', 'STX', 'STE', 'BBY', 'AEE', 'IR', 'PPL', 'ETR', 'VTR', 'SBNY', 'GWW', 'ESS', 'NTAP', 'VRSN', 'ULTA', 'RJF', 'ENPH', 'NDAQ', 'DRE', 'MPWR', 'TDY', 'FLT', 'WAT', 'COO', 'VFC', 'GNRC', 'TER', 'CINF', 'TTWO', 'DRI', 'GPC', 'PFG', 'AMCR', 'WAB', 'CMS', 'OMC', 'IP', 'EXPD', 'CLX', 'VTRS', 'POOL', 'HOLX', 'TYL', 'KMX', 'BXP', 'CAG', 'PEAK', 'TRMB', 'GRMN', 'CE', 'CNP', 'ETSY', 'AKAM', 'NVR', 'CTLT', 'EMN', 'BR', 'K', 'NLOK', 'XYL', 'DPZ', 'JBHT', 'DGX', 'PAYC', 'TXT', 'J', 'TECH', 'FDS', 'BRO', 'FMC', 'AVY', 'SJM', 'TFX', 'QRVO', 'CRL', 'PWR', 'IEX', 'MAS', 'MKTX', 'IPG', 'LNT', 'AAP', 'PKG', 'EVRG', 'ATO', 'ABMD', 'SEDG', 'FOXA', 'BBWI', 'RHI', 'HWM', 'HRL', 'CMA', 'LKQ', 'LDOS', 'HAS', 'WHR', 'IRM', 'JKHY', 'BIO', 'CBOE', 'CTXS', 'WRB', 'L', 'NDSN', 'PHM', 'WRK', 'FBHS', 'LNC', 'XRAY', 'FFIV', 'CHRW', 'HSIC', 'SNA', 'PTC', 'ZION', 'JNPR', 'TPR', 'BWA', 'ALLE', 'UHS', 'REG', 'SEE', 'NWL', 'GL', 'LW', 'PNR', 'AOS', 'NRG', 'OGN', 'TAP', 'CPB', 'LUMN', 'NWSA', 'DISCK', 'BEN', 'MHK', 'PENN', 'DVA', 'PNW', 'IVZ', 'DISH', 'HII', 'VNO', 'PVH', 'ROL', 'NLSN', 'FOX', 'IPGP', 'DISCA', 'UAA', 'UA', 'NWS']\n"
   ]
  },
  {
   "cell_type": "code",
   "execution_count": 4,
   "id": "efc88683-0312-48ad-b01b-198c88ae68b8",
   "metadata": {},
   "outputs": [],
   "source": [
    "def calculate_ROE(s):\n",
    "    try:\n",
    "        ticker = s\n",
    "        yahoo_financials = YahooFinancials(ticker)\n",
    "        income_statement_data_m = yahoo_financials.get_financial_stmts('m', 'balance')\n",
    "        tA = []\n",
    "        tL = []\n",
    "        for i in ticker:\n",
    "            lst1 = income_statement_data_m['balanceSheetHistoryQuarterly'][i]\n",
    "            total_assets = []\n",
    "            total_liability = []\n",
    "            for j in lst1:\n",
    "                for k in j.keys():\n",
    "                    k = str(k)\n",
    "                    total_assets.append(j[k]['totalAssets'])\n",
    "                    total_liability.append(j[k]['totalLiab'])\n",
    "            tA.append(np.mean(total_assets))\n",
    "            tL.append(np.mean(total_liability))\n",
    "            income = yahoo_financials.get_net_income()\n",
    "            nI = []\n",
    "            ROE = []\n",
    "            for i in income.keys():\n",
    "                i = str(i)\n",
    "                nI.append(income[i])\n",
    "            for i in range(len(tA)):\n",
    "                ROE.append(nI[i] / (tA[i] - tL[i]))\n",
    "    except:\n",
    "        pass\n",
    "    return ROE\n",
    "    "
   ]
  },
  {
   "cell_type": "code",
   "execution_count": 5,
   "id": "77583df3-422f-4003-9546-8138652be0b0",
   "metadata": {},
   "outputs": [
    {
     "ename": "UnboundLocalError",
     "evalue": "local variable 'ROE' referenced before assignment",
     "output_type": "error",
     "traceback": [
      "\u001b[0;31m---------------------------------------------------------------------------\u001b[0m",
      "\u001b[0;31mUnboundLocalError\u001b[0m                         Traceback (most recent call last)",
      "\u001b[0;32m<ipython-input-5-59b954b45066>\u001b[0m in \u001b[0;36m<module>\u001b[0;34m\u001b[0m\n\u001b[0;32m----> 1\u001b[0;31m \u001b[0mcalculate_ROE\u001b[0m\u001b[0;34m(\u001b[0m\u001b[0ma\u001b[0m\u001b[0;34m)\u001b[0m\u001b[0;34m\u001b[0m\u001b[0;34m\u001b[0m\u001b[0m\n\u001b[0m",
      "\u001b[0;32m<ipython-input-4-4f4ac00f09ae>\u001b[0m in \u001b[0;36mcalculate_ROE\u001b[0;34m(s)\u001b[0m\n\u001b[1;32m     27\u001b[0m     \u001b[0;32mexcept\u001b[0m\u001b[0;34m:\u001b[0m\u001b[0;34m\u001b[0m\u001b[0;34m\u001b[0m\u001b[0m\n\u001b[1;32m     28\u001b[0m         \u001b[0;32mpass\u001b[0m\u001b[0;34m\u001b[0m\u001b[0;34m\u001b[0m\u001b[0m\n\u001b[0;32m---> 29\u001b[0;31m     \u001b[0;32mreturn\u001b[0m \u001b[0mROE\u001b[0m\u001b[0;34m\u001b[0m\u001b[0;34m\u001b[0m\u001b[0m\n\u001b[0m\u001b[1;32m     30\u001b[0m \u001b[0;34m\u001b[0m\u001b[0m\n",
      "\u001b[0;31mUnboundLocalError\u001b[0m: local variable 'ROE' referenced before assignment"
     ]
    }
   ],
   "source": [
    "calculate_ROE(a)"
   ]
  },
  {
   "cell_type": "code",
   "execution_count": null,
   "id": "82ff47ed-97f0-444b-9587-b401529d9ac9",
   "metadata": {},
   "outputs": [],
   "source": []
  }
 ],
 "metadata": {
  "kernelspec": {
   "display_name": "Python 3",
   "language": "python",
   "name": "python3"
  },
  "language_info": {
   "codemirror_mode": {
    "name": "ipython",
    "version": 3
   },
   "file_extension": ".py",
   "mimetype": "text/x-python",
   "name": "python",
   "nbconvert_exporter": "python",
   "pygments_lexer": "ipython3",
   "version": "3.8.8"
  }
 },
 "nbformat": 4,
 "nbformat_minor": 5
}
