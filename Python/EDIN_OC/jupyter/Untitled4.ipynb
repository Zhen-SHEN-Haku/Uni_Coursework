{
 "cells": [
  {
   "cell_type": "code",
   "execution_count": 1,
   "id": "84d07a4c-9a66-4782-b29e-e9691ec2c1e1",
   "metadata": {},
   "outputs": [],
   "source": [
    "a = ['CSCO', 'QCOM', 'AMAT', 'LRCX', 'KLAC', 'LMT', 'TSLA', 'AAPL', 'CI', 'REGN', 'PFE', 'HII', 'NVDA', 'AMCR', 'MS']"
   ]
  },
  {
   "cell_type": "code",
   "execution_count": 51,
   "id": "e237f15c-b573-4b47-bc58-e87ab82c28fe",
   "metadata": {},
   "outputs": [],
   "source": [
    "pb = {'CSCO': 5.871141116486843,\n",
    " 'QCOM': 19.697251471117657,\n",
    " 'AMAT': 9.080833948741297,\n",
    " 'LRCX': 15.369019663214594,\n",
    " 'KLAC': 16.258835597095793,\n",
    " 'LMT': 5.07538161653372,\n",
    " 'TSLA': 68.25199919220184,\n",
    " 'AAPL': 41.30060535774159,\n",
    " 'CI': 1.8626909172531654,\n",
    " 'REGN': 4.34834840997685,\n",
    " 'PFE': 2.8615022798744425,\n",
    " 'HII': 2.0071914462375906,\n",
    " 'NVDA': 27.789598929934233,\n",
    " 'AMCR': 4.018875918906294,\n",
    " 'MS': 2.02344073355599}"
   ]
  },
  {
   "cell_type": "code",
   "execution_count": 52,
   "id": "dbb69b4e-f479-4446-9788-2e4fc2d17fdd",
   "metadata": {},
   "outputs": [],
   "source": [
    "pb_recent = {}\n",
    "pb_recent['CSCO'] = 5.71\n",
    "pb_recent['QCOM'] = 13.59\n",
    "pb_recent['AMAT'] = 8.91\n",
    "pb_recent['LRCX'] = 10.25\n",
    "pb_recent['KLAC'] = 12.7\n",
    "pb_recent['LMT'] = 11.29\n",
    "pb_recent['TSLA'] = 35.11\n",
    "pb_recent['AAPL'] = 38.59\n",
    "pb_recent['CI'] = 1.74\n",
    "pb_recent['REGN'] = 4.18\n",
    "pb_recent['PFE'] = 4.04\n",
    "pb_recent['BX'] = 8.55\n",
    "pb_recent['HII'] = 3.18\n",
    "pb_recent['NVDA'] = 23.27\n",
    "pb_recent['SQ'] = 21.5\n",
    "pb_recent['AMCR'] = 3.98\n",
    "pb_recent['MS'] = 1.52"
   ]
  },
  {
   "cell_type": "code",
   "execution_count": 53,
   "id": "752ade8c-c1bd-4c78-b6b3-bdce65263169",
   "metadata": {},
   "outputs": [],
   "source": [
    "var = {}\n",
    "var['HII'] = 0.077081099\n",
    "var['AAPL'] = 0.129999418\n",
    "var['AMAT'] = 0.134221629\n",
    "var['SQ'] = 0.169255202\n",
    "var['AMCR'] = 0.07098832\n",
    "var['LMT'] = 0.077842286\n",
    "var['PFE'] = 0.066993177\n",
    "var['KLAC'] = 0.137192602\n",
    "var['LRCX'] = 0.162317044\n",
    "var['CI'] = 0.087921997\n",
    "var['MS'] = 0.10325945\n",
    "var['CSCO'] = 0.106436408\n",
    "var['REGN'] = 0.265145255\n",
    "var['QCOM'] = 0.145098078\n",
    "var['NVDA'] = 0.178278583\n",
    "var['BX'] = 0.108260918\n",
    "var['TSLA'] = 0.182264736"
   ]
  },
  {
   "cell_type": "code",
   "execution_count": 54,
   "id": "c43d8b72-a744-4dd0-922a-a77392bff532",
   "metadata": {},
   "outputs": [],
   "source": [
    "FV = {}\n",
    "for s in a:\n",
    "    FV[s] = (pb[s]-pb_recent[s])/var[s]"
   ]
  },
  {
   "cell_type": "code",
   "execution_count": 55,
   "id": "cf4c5482-44a3-4de9-b817-d1cd35d59aa3",
   "metadata": {},
   "outputs": [
    {
     "data": {
      "text/plain": [
       "{'CSCO': 1.5139661278952878,\n",
       " 'QCOM': 42.09050564486221,\n",
       " 'AMAT': 1.2727751109420455,\n",
       " 'LRCX': 31.53716662813669,\n",
       " 'KLAC': 25.940433705716824,\n",
       " 'LMT': -79.83602104730429,\n",
       " 'TSLA': 181.83440153887932,\n",
       " 'AAPL': 20.8509037920584,\n",
       " 'CI': 1.3954518941734841,\n",
       " 'REGN': 0.6349289938334013,\n",
       " 'PFE': -17.591309636286656,\n",
       " 'HII': -15.215254698981518,\n",
       " 'NVDA': 25.351328543677248,\n",
       " 'AMCR': 0.547638243957509,\n",
       " 'MS': 4.875493076478618}"
      ]
     },
     "execution_count": 55,
     "metadata": {},
     "output_type": "execute_result"
    }
   ],
   "source": [
    "FV"
   ]
  },
  {
   "cell_type": "code",
   "execution_count": 57,
   "id": "c0bdc819-d1b0-41ee-9744-204fd53c76ca",
   "metadata": {},
   "outputs": [],
   "source": [
    "a = list(FV.keys())\n",
    "a.remove('PFE')\n",
    "a.remove('HII')\n",
    "a.remove('LMT')"
   ]
  },
  {
   "cell_type": "code",
   "execution_count": 59,
   "id": "42dc9024-8381-463c-8c51-4b4bcf71e87d",
   "metadata": {},
   "outputs": [],
   "source": [
    "new = {}\n",
    "for s in a:\n",
    "    new[s] = FV[s]"
   ]
  },
  {
   "cell_type": "code",
   "execution_count": 60,
   "id": "19b3f337-616e-4ed4-8ea6-3244857c8793",
   "metadata": {},
   "outputs": [
    {
     "data": {
      "text/plain": [
       "{'CSCO': 1.5139661278952878,\n",
       " 'QCOM': 42.09050564486221,\n",
       " 'AMAT': 1.2727751109420455,\n",
       " 'LRCX': 31.53716662813669,\n",
       " 'KLAC': 25.940433705716824,\n",
       " 'TSLA': 181.83440153887932,\n",
       " 'AAPL': 20.8509037920584,\n",
       " 'CI': 1.3954518941734841,\n",
       " 'REGN': 0.6349289938334013,\n",
       " 'NVDA': 25.351328543677248,\n",
       " 'AMCR': 0.547638243957509,\n",
       " 'MS': 4.875493076478618}"
      ]
     },
     "execution_count": 60,
     "metadata": {},
     "output_type": "execute_result"
    }
   ],
   "source": [
    "new"
   ]
  },
  {
   "cell_type": "code",
   "execution_count": null,
   "id": "16092493-701a-4dc7-b44a-58acb4974812",
   "metadata": {},
   "outputs": [],
   "source": []
  }
 ],
 "metadata": {
  "kernelspec": {
   "display_name": "Python 3",
   "language": "python",
   "name": "python3"
  },
  "language_info": {
   "codemirror_mode": {
    "name": "ipython",
    "version": 3
   },
   "file_extension": ".py",
   "mimetype": "text/x-python",
   "name": "python",
   "nbconvert_exporter": "python",
   "pygments_lexer": "ipython3",
   "version": "3.8.8"
  }
 },
 "nbformat": 4,
 "nbformat_minor": 5
}
